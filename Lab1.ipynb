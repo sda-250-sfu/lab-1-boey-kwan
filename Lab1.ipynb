{
 "cells": [
  {
   "cell_type": "markdown",
   "metadata": {},
   "source": [
    "# Lab 1 - Intro to Jupyter Notebooks\n",
    "\n",
    "In this assignment you will be asked to perform some basic tasks related to the operations of Jupyter notebooks. Learning these basics is important since Jupyter Notebooks will be one of the ways you will be turning in assignments this semester. All the information needed to complete this can be found in the assigned reading for this week. [Week1 Reading](https://realpython.com/jupyter-notebook-introduction/)"
   ]
  },
  {
   "cell_type": "markdown",
   "metadata": {},
   "source": [
    "### Notebook basics\n",
    "\n",
    "We will go over some basic notebook functions and after that, we will move on to learn some of the basics of Python. Try to run the following code block. Remember that the shortcut is `shift+enter`:"
   ]
  },
  {
   "cell_type": "code",
   "execution_count": 2,
   "metadata": {},
   "outputs": [
    {
     "name": "stdout",
     "output_type": "stream",
     "text": [
      "Welcome to SDA 250!\n",
      "Using the 'insert' tab add a code block and change its type to \"markdown\" using the drop-down bar. \n",
      "In that markdown block write a short introduction about why you are taking this course.\n",
      "Don't forget to add your name at the top as a header.\n",
      "Also add a bullet list of the top 3 skills you want to learn in this course.\n"
     ]
    }
   ],
   "source": [
    "print(\"Welcome to SDA 250!\")\n",
    "print(\"Using the 'insert' tab add a code block and change its type to \\\"markdown\\\" using the drop-down bar. \")\n",
    "print(\"In that markdown block write a short introduction about why you are taking this course.\")\n",
    "print(\"Don't forget to add your name at the top as a header.\")\n",
    "print(\"Also add a bullet list of the top 3 skills you want to learn in this course.\")"
   ]
  },
  {
   "cell_type": "markdown",
   "metadata": {},
   "source": [
    "Hi, Boey Kwan here!\n",
    "\n",
    "I am taking Ling250 because I want to collect data from text for research. I encountered this need last summer when I needed to count the occurrences of specific lexical items and morphosyntactic features in a musical artist's entire discography... Doing this manually was tough! I figured there must be a better way.\n",
    "\n",
    "I'm also inspired by a project which compared the vocabulary sizes of rappers' based on their lyrics (link: https://pudding.cool/projects/vocabulary/index.html).\n",
    "\n",
    "The top 3 skills I want to learn in this course are:\n",
    "- POS tagging\n",
    "- Stemming and lemmatization\n",
    "- Using n-grams and collocations, especially for authorship analysis"
   ]
  },
  {
   "cell_type": "markdown",
   "metadata": {},
   "source": [
    "Great! We hope you have fun in the course while learning about using text as data and how to process it. Now that you know how to add \"markdown\" blocks, you should make sure to use them during this semester to add explanations to your code. If you want more information on how to style using markdown, go to this link: [Markdown Syntax](https://www.markdownguide.org/basic-syntax/)"
   ]
  },
  {
   "cell_type": "markdown",
   "metadata": {},
   "source": [
    "***\n",
    "Next, create a code block and use it to print whether you have any programming experience.\n",
    "\n",
    "Remember that to print in python, you use the `print()` function and put whatever you want to print in quotation marks inside the parentheses\n",
    "\n",
    "***"
   ]
  },
  {
   "cell_type": "code",
   "execution_count": 16,
   "metadata": {},
   "outputs": [
    {
     "name": "stdout",
     "output_type": "stream",
     "text": [
      "I do not have much programming experience. I only took one course, CMPT 120 Intro to Programming, involving some Python.\n"
     ]
    }
   ],
   "source": [
    "print(\"I do not have much programming experience. I only took one course, CMPT 120 Intro to Programming, involving some Python.\")"
   ]
  },
  {
   "cell_type": "markdown",
   "metadata": {},
   "source": [
    "***\n",
    "Every introduction to programming needs to start with printing the phrase \"Hello world!\". So use the `print()` function to do so below.\n",
    "***"
   ]
  },
  {
   "cell_type": "code",
   "execution_count": 4,
   "metadata": {},
   "outputs": [
    {
     "name": "stdout",
     "output_type": "stream",
     "text": [
      "Hello world!\n"
     ]
    }
   ],
   "source": [
    "print(\"Hello world!\")"
   ]
  },
  {
   "cell_type": "markdown",
   "metadata": {},
   "source": [
    "### A short introduction to Python\n",
    "\n",
    "For the last part of this lab we will have a quick look at some basic python syntax.\n",
    "\n",
    "You already learned how to print something in python using the `print()` function. Functions like print are going to allow you to interact with the data, analyze it, and modify it. But in order to use various functions, we first need to look at what **variables** are.\n",
    "\n",
    "A variable is really just a way to store information like numbers, strings of words or even whole texts. To use a variable in Python you need to give the variable a name and then give it some value."
   ]
  },
  {
   "cell_type": "markdown",
   "metadata": {},
   "source": [
    "***\n",
    "In the following code block I created two variables, one called `name` which stores a string and one called `age` which stores a number. I then print them out.\n",
    "\n",
    "Notice that in order to assign strings to a variable you need to put the string in quotation marks. Whenever Python sees something in quotation marks, it will assume that it is a string. This means that when you want to print the contents of a variable, you do not want to put it in quotation marks, since that will just print the name of the variable instead of the contents.\n",
    "\n",
    "Before running the following code block, try to understand what it does and to predict what it will output. Now that you have a prediction, go ahead and run it. Did the prediction come true?\n",
    "***"
   ]
  },
  {
   "cell_type": "code",
   "execution_count": 5,
   "metadata": {},
   "outputs": [
    {
     "name": "stdout",
     "output_type": "stream",
     "text": [
      "sam\n",
      "21\n",
      "name\n",
      "age\n"
     ]
    }
   ],
   "source": [
    "name = \"sam\"\n",
    "age = 21\n",
    "\n",
    "print(name)\n",
    "print(age)\n",
    "\n",
    "# if we put quotation marks around the variable name it will just print the name of the variable\n",
    "print(\"name\")\n",
    "print(\"age\")"
   ]
  },
  {
   "cell_type": "markdown",
   "metadata": {},
   "source": [
    "Take note of the 'comment' line. A comment line in python is any line that starts with a \"hashtag\". This hashtag tells Python to ignore whatever is behind the hashtag and to go to the next line."
   ]
  },
  {
   "cell_type": "markdown",
   "metadata": {},
   "source": [
    "***\n",
    "Now create another code block and create some of your own variables and give them a value. Then Ppint the variables and use comments to predict what they will print. Also, try to put quotation marks around the variable name and predict what it will print.\n",
    "***"
   ]
  },
  {
   "cell_type": "code",
   "execution_count": 6,
   "metadata": {},
   "outputs": [
    {
     "name": "stdout",
     "output_type": "stream",
     "text": [
      "Ling250\n",
      "2021\n",
      "course\n",
      "year\n"
     ]
    }
   ],
   "source": [
    "course = \"Ling250\"\n",
    "year = 2021\n",
    "\n",
    "# if i don't use quotation marks around the variable name, it'll print the value that the variable refers to\n",
    "print(course)\n",
    "print(year)\n",
    "\n",
    "# if i use quotation marks around the variable name, it'll print the name of the variable\n",
    "print(\"course\")\n",
    "print(\"year\")"
   ]
  },
  {
   "cell_type": "markdown",
   "metadata": {},
   "source": [
    "***\n",
    "Now that you are familiar with variables, comments, and how to print we will move on to some basic math operations. Python supports the basic math operators `+`, `-`, `*` and `/` \n",
    "which stand for addition, subtraction, multiplication and division. Try to predict the answers of the following print statements before running them. Insert your predictions in the comments __before__ running them!\n",
    "***"
   ]
  },
  {
   "cell_type": "code",
   "execution_count": 7,
   "metadata": {},
   "outputs": [
    {
     "name": "stdout",
     "output_type": "stream",
     "text": [
      "3\n"
     ]
    }
   ],
   "source": [
    "# this will print: 3\n",
    "print(1+2)"
   ]
  },
  {
   "cell_type": "code",
   "execution_count": 8,
   "metadata": {},
   "outputs": [
    {
     "name": "stdout",
     "output_type": "stream",
     "text": [
      "12\n"
     ]
    }
   ],
   "source": [
    "# this will print: 12\n",
    "print(3*4)"
   ]
  },
  {
   "cell_type": "code",
   "execution_count": 9,
   "metadata": {},
   "outputs": [
    {
     "name": "stdout",
     "output_type": "stream",
     "text": [
      "5\n"
     ]
    }
   ],
   "source": [
    "x = 10\n",
    "y = 5\n",
    "\n",
    "# this will print: 5\n",
    "print(x - y)"
   ]
  },
  {
   "cell_type": "code",
   "execution_count": 10,
   "metadata": {},
   "outputs": [
    {
     "name": "stdout",
     "output_type": "stream",
     "text": [
      "15\n",
      "number2\n",
      "5.0\n"
     ]
    }
   ],
   "source": [
    "number1 = 15\n",
    "number2 = 3\n",
    "result = number1 / number2\n",
    "\n",
    "# this will print: 15\n",
    "print(number1)\n",
    "\n",
    "# this will print: number2\n",
    "print(\"number2\")\n",
    "\n",
    "# this will print: 5\n",
    "print(result)"
   ]
  },
  {
   "cell_type": "markdown",
   "metadata": {},
   "source": [
    "Before doing the last exercise of this lab we will go over a special use of \"+\" in python. Besides using it to add two numbers we can use the \"+\" operator to glue together two strings. This special use is called ***string concatenation***."
   ]
  },
  {
   "cell_type": "code",
   "execution_count": 11,
   "metadata": {},
   "outputs": [
    {
     "name": "stdout",
     "output_type": "stream",
     "text": [
      "TaylorWilliams\n"
     ]
    }
   ],
   "source": [
    "firstName = \"Taylor\"\n",
    "lastName = \"Williams\"\n",
    "fullName = firstName + lastName\n",
    "\n",
    "# this will print: TaylorWilliams\n",
    "print(fullName)"
   ]
  },
  {
   "cell_type": "markdown",
   "metadata": {},
   "source": [
    "If you predicted that it would print \"Taylor Williams\" then you may be a bit confused why it didn't, but don't worry. A computer is very particular about what it does. You need to specify everything exactly... down to the spaces that you want it to print. Because I told Python to glue together \"Taylor\" and \"Williams\" that is exactly what Python did. Since it did not see a space in either of the strings it didn't print it. So if you wanted to print \"Taylor Williams\" then you need to add the space like I do in the next code block:"
   ]
  },
  {
   "cell_type": "code",
   "execution_count": 12,
   "metadata": {},
   "outputs": [
    {
     "name": "stdout",
     "output_type": "stream",
     "text": [
      "Taylor Williams\n",
      "Taylor Williams\n"
     ]
    }
   ],
   "source": [
    "fullName = firstName + \" \" + lastName\n",
    "\n",
    "# This will print the correct full name\n",
    "print(fullName)\n",
    "\n",
    "# You could also add the space in the print statement itself\n",
    "print(firstName + \" \" + lastName)"
   ]
  },
  {
   "cell_type": "markdown",
   "metadata": {},
   "source": [
    "Note the conventions for naming variables. The variable \"fullName\" starts with small case, but uses upper case to indicate where a new word starts. This is called \"camel case\". Can you see the camel hump? 🐪"
   ]
  },
  {
   "cell_type": "markdown",
   "metadata": {},
   "source": [
    "***\n",
    "As the last exercise, try to use everything you have learned in this lab. Start by making variables to store the following things: \n",
    "\n",
    "- first name\n",
    "- last name\n",
    "- preferred name\n",
    "- preferred pronouns\n",
    "- favorite number\n",
    "\n",
    "Then, print: \n",
    "- first name and last name\n",
    "- your preferred name, followed by pronouns in parentheses\n",
    "- print \"My favorite number is x\" where x is your favorite number\n",
    "\n",
    "Make sure to use string concatenation and the variable that contains it and don't just do the following: `print(\"My favorite number is 7\")`\n",
    "\n",
    "Then, do some math with your favorite number. Multiply your favorite number by itself, add your favorite number to 10, etc. Just try to use all the operators described in this lab.\n",
    "***"
   ]
  },
  {
   "cell_type": "code",
   "execution_count": 13,
   "metadata": {},
   "outputs": [
    {
     "name": "stdout",
     "output_type": "stream",
     "text": [
      "Boey Kwan\n",
      "Boey (she/her)\n",
      "My favorite number is 1\n",
      "1\n",
      "11\n",
      "0.5\n",
      "-10\n"
     ]
    }
   ],
   "source": [
    "firstName = \"Boey\"\n",
    "lastName = \"Kwan\"\n",
    "preferredName = \"Boey\"\n",
    "preferredPronouns = \"she/her\"\n",
    "favoriteNumber = 1\n",
    "\n",
    "# this will print the first name, a space, and last name\n",
    "print(firstName + \" \" + lastName)\n",
    "\n",
    "# this will print the preferred name, followed by pronouns in parentheses\n",
    "print(preferredName + \" (\" + preferredPronouns + \")\")\n",
    "\n",
    "# this will print my favorite number in a sentence\n",
    "# favoriteNumber is in integer class right now, it must be converted to string for a string concatenation\n",
    "print(\"My favorite number is \" + str(favoriteNumber))\n",
    "\n",
    "# this will do some math with my favorite number\n",
    "print(favoriteNumber * favoriteNumber)\n",
    "print(favoriteNumber + 10)\n",
    "print(favoriteNumber / 2)\n",
    "print(favoriteNumber - 11)"
   ]
  },
  {
   "cell_type": "markdown",
   "metadata": {},
   "source": [
    "## Minute paper #2\n",
    "\n",
    "Enter below (using print() if you want) the contents of your minute paper for this week. The prompt is: \n",
    "* What are two ethical considerations when dealing with data?\n"
   ]
  },
  {
   "cell_type": "code",
   "execution_count": 14,
   "metadata": {},
   "outputs": [
    {
     "name": "stdout",
     "output_type": "stream",
     "text": [
      "When dealing with data, one ethical consideration is privacy and anonymity. While anonymity involves the absence of an individual's identity from the data, while privacy involves the absence of personal information which the individual does not want documented or publicized. When dealing with data, it is possible to anonymize the data without preserving privacy. For example, the data might not mention the participant's name, but it may mention other personal information or other people who did not give their consent. Personal information from different databases or sources, even when anonymized, can be triangulated to identify the participant. In considering privacy and anonymity, one must acknowledge that information in the public domain is not harmless; and the method of collection of data is not the only issue at hand. Publicly available, existing data can be put to use, becoming extremely powerful. Thus, there is a potential violation of privacy committed against people who are not aware their data is being exploited or used in certain ways so powerfully.\n"
     ]
    }
   ],
   "source": [
    "print(\"When dealing with data, one ethical consideration is privacy and anonymity. While anonymity involves the absence of an individual's identity from the data, while privacy involves the absence of personal information which the individual does not want documented or publicized. When dealing with data, it is possible to anonymize the data without preserving privacy. For example, the data might not mention the participant's name, but it may mention other personal information or other people who did not give their consent. Personal information from different databases or sources, even when anonymized, can be triangulated to identify the participant. In considering privacy and anonymity, one must acknowledge that information in the public domain is not harmless; and the method of collection of data is not the only issue at hand. Publicly available, existing data can be put to use, becoming extremely powerful. Thus, there is a potential violation of privacy committed against people who are not aware their data is being exploited or used in certain ways so powerfully.\")"
   ]
  },
  {
   "cell_type": "code",
   "execution_count": 17,
   "metadata": {},
   "outputs": [
    {
     "name": "stdout",
     "output_type": "stream",
     "text": [
      "Another ethical consideration is bias. There can be selection bias and societal bias. Selection bias occurs when the data collection is restricted to certain groups or sources, not randomized. For instance, by selecting only middle-aged white men as data sources while developing speech recognition software, the software becomes less representative and effective when used by or with people who are not middle-aged white men. As for societal bias, even an accurate, representative system can become biased when it 'learns' from data that reflects a historical bias in society. For example, in a society where the average man has a higher paying job, a job-seeking website like Indeed might present higher paying jobs to men and lower paying jobs to women. When dealing with data, one must consider the selection bias and societal bias that may result in misrepresentative data or propagate undesirable problems in society.\n"
     ]
    }
   ],
   "source": [
    "print(\"Another ethical consideration is bias. There can be selection bias and societal bias. Selection bias occurs when the data collection is restricted to certain groups or sources, not randomized. For instance, by selecting only middle-aged white men as data sources while developing speech recognition software, the software becomes less representative and effective when used by or with people who are not middle-aged white men. As for societal bias, even an accurate, representative system can become biased when it 'learns' from data that reflects a historical bias in society. For example, in a society where the average man has a higher paying job, a job-seeking website like Indeed might present higher paying jobs to men and lower paying jobs to women. When dealing with data, one must consider the selection bias and societal bias that may result in misrepresentative data or propagate undesirable problems in society.\")"
   ]
  },
  {
   "cell_type": "markdown",
   "metadata": {},
   "source": [
    "That is the end of the lab! 👏\n",
    "\n",
    "If you want to learn more Python on your own, this is a good resource: [Learn Python](https://www.learnpython.org/)"
   ]
  }
 ],
 "metadata": {
  "kernelspec": {
   "display_name": "Python 3",
   "language": "python",
   "name": "python3"
  },
  "language_info": {
   "codemirror_mode": {
    "name": "ipython",
    "version": 3
   },
   "file_extension": ".py",
   "mimetype": "text/x-python",
   "name": "python",
   "nbconvert_exporter": "python",
   "pygments_lexer": "ipython3",
   "version": "3.8.5"
  }
 },
 "nbformat": 4,
 "nbformat_minor": 4
}
